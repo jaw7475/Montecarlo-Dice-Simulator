{
 "cells": [
  {
   "cell_type": "markdown",
   "id": "2a6c3e5e-e1f7-4d08-8882-3b6f412c82fd",
   "metadata": {},
   "source": [
    "# Montecarlo Scenarios"
   ]
  },
  {
   "cell_type": "markdown",
   "id": "7b28be8b-7705-42de-9024-2ab4fe8b9dc5",
   "metadata": {},
   "source": [
    "## Imports"
   ]
  },
  {
   "cell_type": "code",
   "execution_count": 76,
   "id": "1af5e109-1087-4bc9-9625-0daa7599dafa",
   "metadata": {},
   "outputs": [],
   "source": [
    "import numpy as np\n",
    "import pandas as pd\n",
    "import matplotlib.pyplot as plt\n",
    "import montecarlo as mc"
   ]
  },
  {
   "cell_type": "markdown",
   "id": "5a7b1952-5bcb-4c3a-89bb-2bfaf71d4908",
   "metadata": {},
   "source": [
    "## Scenario 1"
   ]
  },
  {
   "cell_type": "code",
   "execution_count": 20,
   "id": "c30c9413-d587-4fcc-99dc-c69fab935c68",
   "metadata": {},
   "outputs": [],
   "source": [
    "#1\n",
    "fair_coin = mc.Die(np.array(['H', 'T']))\n",
    "\n",
    "unfair_coin = mc.Die(np.array(['H', 'T']))\n",
    "unfair_coin.change_weight('T', 5.0)"
   ]
  },
  {
   "cell_type": "code",
   "execution_count": 21,
   "id": "5b11aa2b-25b6-4b3b-8a94-a8a9de16a2af",
   "metadata": {},
   "outputs": [],
   "source": [
    "#2\n",
    "game1 = mc.Game([fair_coin, fair_coin, fair_coin])\n",
    "game1.play(1000)"
   ]
  },
  {
   "cell_type": "code",
   "execution_count": 22,
   "id": "2ddbc4ec-93b0-488d-baf0-40135bce55e5",
   "metadata": {},
   "outputs": [],
   "source": [
    "#3\n",
    "game2 = mc.Game([unfair_coin, unfair_coin, fair_coin])\n",
    "game2.play(1000)"
   ]
  },
  {
   "cell_type": "code",
   "execution_count": 26,
   "id": "baba113d-024d-4120-8d43-5f4253e8d68d",
   "metadata": {},
   "outputs": [
    {
     "name": "stdout",
     "output_type": "stream",
     "text": [
      "Game 1 jackpots: 243\n",
      "Game 2 jackpots: 380\n",
      "Game 2 came up with jackpots 1.56x more frequently than Game 1\n"
     ]
    }
   ],
   "source": [
    "#4\n",
    "game1_analyzed = mc.Analyzer(game1)\n",
    "game2_analyzed = mc.Analyzer(game2)\n",
    "\n",
    "game1_jackpots = game1_analyzed.jackpot()\n",
    "game2_jackpots = game2_analyzed.jackpot()\n",
    "\n",
    "print('Game 1 jackpots: ' + str(game1_jackpots))\n",
    "print('Game 2 jackpots: ' + str(game2_jackpots))\n",
    "print('Game 2 came up with jackpots ' + str(round(game2_jackpots/game1_jackpots, 2)) + 'x more frequently than Game 1')"
   ]
  },
  {
   "cell_type": "code",
   "execution_count": 27,
   "id": "11cad38d-e5a0-44b8-a824-3b776457d20d",
   "metadata": {},
   "outputs": [
    {
     "name": "stdout",
     "output_type": "stream",
     "text": [
      "Game 1 relative frequency: 0.243\n",
      "Game 2 relative frequency: 0.38\n"
     ]
    }
   ],
   "source": [
    "#5\n",
    "rel_freq_1 = game1_jackpots / 1000\n",
    "rel_freq_2 = game2_jackpots / 1000\n",
    "\n",
    "print('Game 1 relative frequency: ' + str(rel_freq_1))\n",
    "print('Game 2 relative frequency: ' + str(rel_freq_2))"
   ]
  },
  {
   "cell_type": "code",
   "execution_count": 42,
   "id": "bb6f69d6-d4a4-48c2-9c82-0483461a563e",
   "metadata": {},
   "outputs": [
    {
     "data": {
      "image/png": "[encoded data removed]",
      "text/plain": [
       "<Figure size 432x288 with 1 Axes>"
      ]
     },
     "metadata": {
      "needs_background": "light"
     },
     "output_type": "display_data"
    }
   ],
   "source": [
    "#6\n",
    "plt.bar(['Game 1 RF', 'Game 2 RF'],[rel_freq_1, rel_freq_2]);"
   ]
  },
  {
   "cell_type": "markdown",
   "id": "f10f4646-35d4-4b8f-b684-68d81a3b7439",
   "metadata": {},
   "source": [
    "## Scenario 2"
   ]
  },
  {
   "cell_type": "code",
   "execution_count": 43,
   "id": "ca8ef433-a2a6-4d8d-9201-1b155b7e1822",
   "metadata": {},
   "outputs": [],
   "source": [
    "#1\n",
    "fair_die = mc.Die(np.array([1,2,3,4,5,6]))\n",
    "\n",
    "unfair_type1 = mc.Die(np.array([1,2,3,4,5,6]))\n",
    "unfair_type1.change_weight(6, 5.0)\n",
    "\n",
    "unfair_type2 = mc.Die(np.array([1,2,3,4,5,6]))\n",
    "unfair_type2.change_weight(1, 5.0)"
   ]
  },
  {
   "cell_type": "code",
   "execution_count": 45,
   "id": "94b8da26-2436-41d4-990b-f3fe429a850e",
   "metadata": {},
   "outputs": [],
   "source": [
    "#2\n",
    "game3 = mc.Game([fair_die, fair_die, fair_die, fair_die, fair_die])\n",
    "game3.play(10000)"
   ]
  },
  {
   "cell_type": "code",
   "execution_count": 46,
   "id": "3c845e08-abef-4974-a0fd-201b251be2b5",
   "metadata": {},
   "outputs": [],
   "source": [
    "#3\n",
    "game4 = mc.Game([unfair_type1, unfair_type1, unfair_type2, fair_die, fair_die])\n",
    "game4.play(10000)"
   ]
  },
  {
   "cell_type": "code",
   "execution_count": 47,
   "id": "6dced72f-2207-461e-b4ec-e3cad7f5f8a1",
   "metadata": {},
   "outputs": [
    {
     "data": {
      "image/png": "[encoded data removed]",
      "text/plain": [
       "<Figure size 432x288 with 1 Axes>"
      ]
     },
     "metadata": {
      "needs_background": "light"
     },
     "output_type": "display_data"
    }
   ],
   "source": [
    "#4\n",
    "game3_analyzed = mc.Analyzer(game3)\n",
    "game4_analyzed = mc.Analyzer(game4)\n",
    "\n",
    "game3_jackpots = game3_analyzed.jackpot()\n",
    "game4_jackpots = game4_analyzed.jackpot()\n",
    "\n",
    "rel_freq_3 = game3_jackpots / 1000\n",
    "rel_freq_4 = game4_jackpots / 1000\n",
    "\n",
    "plt.bar(['Game 3 RF', 'Game 4 RF'],[rel_freq_3, rel_freq_4]);"
   ]
  },
  {
   "cell_type": "code",
   "execution_count": 83,
   "id": "065e5e8f-2b22-4c7c-90ef-74a04f02d033",
   "metadata": {},
   "outputs": [
    {
     "data": {
      "image/png": "[encoded data removed]",
      "text/plain": [
       "<Figure size 432x288 with 1 Axes>"
      ]
     },
     "metadata": {
      "needs_background": "light"
     },
     "output_type": "display_data"
    }
   ],
   "source": [
    "#5\n",
    "game3_analyzed.combo()\n",
    "game4_analyzed.combo()\n",
    "\n",
    "top_combos_game3 = game3_analyzed.combinations.head(10)\n",
    "top_combos_game4 = game4_analyzed.combinations.head(10)\n",
    "\n",
    "labels3 = [str(x) for x in top_combos_game3.index]\n",
    "plt.bar(labels3, top_combos_game3['n']);\n",
    "plt.xticks(rotation = 'vertical');"
   ]
  },
  {
   "cell_type": "code",
   "execution_count": 84,
   "id": "f69a3175-ecbb-4052-ad6a-a77fdf7a7d00",
   "metadata": {},
   "outputs": [
    {
     "data": {
      "image/png": "[encoded data removed]",
      "text/plain": [
       "<Figure size 432x288 with 1 Axes>"
      ]
     },
     "metadata": {
      "needs_background": "light"
     },
     "output_type": "display_data"
    }
   ],
   "source": [
    "labels4 = [str(x) for x in top_combos_game4.index]\n",
    "plt.bar(labels4, top_combos_game4['n']);\n",
    "plt.xticks(rotation = 'vertical');"
   ]
  },
  {
   "cell_type": "markdown",
   "id": "ba014fe9-c073-4c93-af3b-32f01ec9a475",
   "metadata": {},
   "source": [
    "## Scenario 3"
   ]
  },
  {
   "cell_type": "code",
   "execution_count": 72,
   "id": "d646d4f3-edcd-4e1d-a7a2-59363c01045e",
   "metadata": {},
   "outputs": [],
   "source": [
    "#1\n",
    "letters = {'A': 8.4966, 'B': 2.0720, 'C': 4.5388, 'D': 3.3844, 'E': 11.1607, 'F': 1.8121, 'G': 2.4705, 'H': 3.0034,\n",
    "    'I': 7.5448, 'J': 0.1965, 'K': 1.1016, 'L': 5.4893, 'M': 3.0129, 'N': 6.6544, 'O': 7.1635, 'P': 3.1671, 'Q': 0.1962,\n",
    "    'R': 7.5809, 'S': 5.7351, 'T': 6.9509, 'U': 3.6308, 'V': 1.0074, 'W': 1.2899, 'X': 0.2902, 'Y': 1.7779, 'Z': 0.2722 }\n",
    "\n",
    "letter_die = mc.Die(np.array(list(letters.keys())))\n",
    "for i in range(len(letter_die.faces)):\n",
    "    letter_die.change_weight(list(letters.keys())[i], list(letters.values())[i])"
   ]
  },
  {
   "cell_type": "code",
   "execution_count": 73,
   "id": "f7554c31-306d-42a2-9372-828af8a56a58",
   "metadata": {},
   "outputs": [],
   "source": [
    "#2\n",
    "game5 = mc.Game([letter_die, letter_die, letter_die, letter_die, letter_die])\n",
    "game5.play(1000)"
   ]
  },
  {
   "cell_type": "code",
   "execution_count": 86,
   "id": "7b69e3ae-c936-448a-bc91-cc2aa19999cc",
   "metadata": {},
   "outputs": [
    {
     "data": {
      "text/html": [
       "<div>\n",
       "<style scoped>\n",
       "    .dataframe tbody tr th:only-of-type {\n",
       "        vertical-align: middle;\n",
       "    }\n",
       "\n",
       "    .dataframe tbody tr th {\n",
       "        vertical-align: top;\n",
       "    }\n",
       "\n",
       "    .dataframe thead th {\n",
       "        text-align: right;\n",
       "    }\n",
       "</style>\n",
       "<table border=\"1\" class=\"dataframe\">\n",
       "  <thead>\n",
       "    <tr style=\"text-align: right;\">\n",
       "      <th>die</th>\n",
       "      <th>0</th>\n",
       "      <th>1</th>\n",
       "      <th>2</th>\n",
       "      <th>3</th>\n",
       "      <th>4</th>\n",
       "    </tr>\n",
       "    <tr>\n",
       "      <th>roll</th>\n",
       "      <th></th>\n",
       "      <th></th>\n",
       "      <th></th>\n",
       "      <th></th>\n",
       "      <th></th>\n",
       "    </tr>\n",
       "  </thead>\n",
       "  <tbody>\n",
       "    <tr>\n",
       "      <th>0</th>\n",
       "      <td>O</td>\n",
       "      <td>E</td>\n",
       "      <td>R</td>\n",
       "      <td>E</td>\n",
       "      <td>S</td>\n",
       "    </tr>\n",
       "    <tr>\n",
       "      <th>1</th>\n",
       "      <td>G</td>\n",
       "      <td>O</td>\n",
       "      <td>O</td>\n",
       "      <td>C</td>\n",
       "      <td>I</td>\n",
       "    </tr>\n",
       "    <tr>\n",
       "      <th>2</th>\n",
       "      <td>S</td>\n",
       "      <td>E</td>\n",
       "      <td>E</td>\n",
       "      <td>R</td>\n",
       "      <td>E</td>\n",
       "    </tr>\n",
       "    <tr>\n",
       "      <th>3</th>\n",
       "      <td>E</td>\n",
       "      <td>F</td>\n",
       "      <td>S</td>\n",
       "      <td>T</td>\n",
       "      <td>U</td>\n",
       "    </tr>\n",
       "    <tr>\n",
       "      <th>4</th>\n",
       "      <td>U</td>\n",
       "      <td>D</td>\n",
       "      <td>S</td>\n",
       "      <td>E</td>\n",
       "      <td>I</td>\n",
       "    </tr>\n",
       "    <tr>\n",
       "      <th>5</th>\n",
       "      <td>H</td>\n",
       "      <td>A</td>\n",
       "      <td>O</td>\n",
       "      <td>S</td>\n",
       "      <td>U</td>\n",
       "    </tr>\n",
       "    <tr>\n",
       "      <th>6</th>\n",
       "      <td>A</td>\n",
       "      <td>E</td>\n",
       "      <td>S</td>\n",
       "      <td>T</td>\n",
       "      <td>R</td>\n",
       "    </tr>\n",
       "    <tr>\n",
       "      <th>7</th>\n",
       "      <td>D</td>\n",
       "      <td>T</td>\n",
       "      <td>P</td>\n",
       "      <td>V</td>\n",
       "      <td>L</td>\n",
       "    </tr>\n",
       "    <tr>\n",
       "      <th>8</th>\n",
       "      <td>E</td>\n",
       "      <td>L</td>\n",
       "      <td>I</td>\n",
       "      <td>L</td>\n",
       "      <td>W</td>\n",
       "    </tr>\n",
       "    <tr>\n",
       "      <th>9</th>\n",
       "      <td>U</td>\n",
       "      <td>E</td>\n",
       "      <td>A</td>\n",
       "      <td>Y</td>\n",
       "      <td>C</td>\n",
       "    </tr>\n",
       "  </tbody>\n",
       "</table>\n",
       "</div>"
      ],
      "text/plain": [
       "die   0  1  2  3  4\n",
       "roll               \n",
       "0     O  E  R  E  S\n",
       "1     G  O  O  C  I\n",
       "2     S  E  E  R  E\n",
       "3     E  F  S  T  U\n",
       "4     U  D  S  E  I\n",
       "5     H  A  O  S  U\n",
       "6     A  E  S  T  R\n",
       "7     D  T  P  V  L\n",
       "8     E  L  I  L  W\n",
       "9     U  E  A  Y  C"
      ]
     },
     "execution_count": 86,
     "metadata": {},
     "output_type": "execute_result"
    }
   ],
   "source": [
    "#game5.show()\n",
    "game5.show().head(10)"
   ]
  },
  {
   "cell_type": "markdown",
   "id": "5ec63fe5-c4af-40fa-86b1-33e86def0910",
   "metadata": {},
   "source": [
    "##### #3\n",
    "When looking through the combinations of the full table, I only found two rows that resembled English words. One was 'plots' and one was 'taste'"
   ]
  },
  {
   "cell_type": "code",
   "execution_count": 87,
   "id": "eb0f259a-7162-4e87-b629-2eb16c54d26b",
   "metadata": {},
   "outputs": [
    {
     "data": {
      "text/plain": [
       "0.002"
      ]
     },
     "execution_count": 87,
     "metadata": {},
     "output_type": "execute_result"
    }
   ],
   "source": [
    "#4\n",
    "\n",
    "rel_freq_5 = 2/1000\n",
    "rel_freq_5"
   ]
  }
 ],
 "metadata": {
  "kernelspec": {
   "display_name": "Python 3 (ipykernel)",
   "language": "python",
   "name": "python3"
  },
  "language_info": {
   "codemirror_mode": {
    "name": "ipython",
    "version": 3
   },
   "file_extension": ".py",
   "mimetype": "text/x-python",
   "name": "python",
   "nbconvert_exporter": "python",
   "pygments_lexer": "ipython3",
   "version": "3.9.12"
  }
 },
 "nbformat": 4,
 "nbformat_minor": 5
}
