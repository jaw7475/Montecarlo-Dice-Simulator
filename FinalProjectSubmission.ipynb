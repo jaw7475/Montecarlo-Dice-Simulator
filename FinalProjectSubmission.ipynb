{
 "cells": [
  {
   "cell_type": "markdown",
   "id": "45762487-d33f-486d-8e38-2cdea04e3528",
   "metadata": {},
   "source": [
    "# Metadata\n",
    "\n",
    "* Title: **Final Project Report**\n",
    "* Class: DS 5100\n",
    "* Date: July 15, 2022\n",
    "* Student Name: Jake Weinberg\n",
    "* Student Net ID: jaw7cd\n",
    "* This URL: https://github.com/jaw7475/Montecarlo-Dice-Simulator/blob/main/FinalProjectSubmission.ipynb\n",
    "* GitHub Repo URL: https://github.com/jaw7475/Montecarlo-Dice-Simulator"
   ]
  },
  {
   "cell_type": "markdown",
   "id": "d32cb273-9a40-4909-a7ce-51f6e4958d3c",
   "metadata": {},
   "source": [
    "# The Monte Carlo Module"
   ]
  },
  {
   "cell_type": "code",
   "execution_count": 1,
   "id": "a0743efc-a785-4b5c-a9e6-b65d4507a67f",
   "metadata": {},
   "outputs": [],
   "source": [
    "import numpy as np\n",
    "import pandas as pd\n",
    "\n",
    "class Die:\n",
    "    '''\n",
    "    A Die object has N sides, or “faces”, and W weights, and can be rolled to select a face. \n",
    "\n",
    "    W defaults to 1.0 for each face but can be changed after the object is created.\n",
    "    \n",
    "    Note that the weights are just numbers, not a normalized probability distribution.\n",
    "    \n",
    "    The die has one behavior, which is to be rolled one or more times.\n",
    "    \n",
    "    Note that what we are calling a “die” here can be any discrete random variable associated with a stochastic process, such as \n",
    "    using a deck of cards or flipping a coin or speaking a language. Our probability model for such variable is, however, \n",
    "    very simple – since our weights apply to only to single events, we are assuming that the events are independent. \n",
    "    This makes sense for coin tosses but not for language use.\n",
    "    '''\n",
    "    \n",
    "    def __init__(self, faces):\n",
    "        '''\n",
    "        PURPOSE: Initializes an instance of the Die object. Internally initializes the weights to 1.0 for each face. Saves both \n",
    "        faces and weights into a private dataframe that is to be shared by the other methods.\n",
    "        \n",
    "        INPUTS: Takes an ndarray of faces as an argument. The array's data type (dtype) may be strings or numbers\n",
    "        \n",
    "        OUTPUTS: None\n",
    "        '''\n",
    "        self.faces = faces\n",
    "        self.weights = np.ones_like(self.faces, dtype = np.float64)\n",
    "        self._opportunity_set = pd.DataFrame({'faces':self.faces, 'weights':self.weights})\n",
    "        \n",
    "    def change_weight(self, face, weight):\n",
    "        '''\n",
    "        PURPOSE: Changes the weight of a single side. Checks to see if the face passed is valid; is it in the array of weights?\n",
    "        Checks to see if the weight is valid; is it a float? Can it be converted to one?\n",
    "        \n",
    "        INPUTS: Takes two arguments: the face value to be changed and the new weight. The new weight must be a float.\n",
    "        \n",
    "        OUTPUTS: None\n",
    "        '''\n",
    "        if face in self.faces:\n",
    "            if type(weight) == float:\n",
    "                self._opportunity_set.loc[self._opportunity_set['faces'] == face, 'weights'] = weight\n",
    "                self.weights = self._opportunity_set.weights\n",
    "            else:\n",
    "                return \"Please enter a number with a decimal for the weight.\"\n",
    "        else:\n",
    "            return \"Please enter a face on this die.\"\n",
    "        \n",
    "    def die_roll(self, rolls = 1):\n",
    "        '''\n",
    "        PURPOSE: A method to roll the die one or more times.\n",
    "        \n",
    "        INPUTS: Takes a parameter of how many times the die is to be rolled; defaults to 1.\n",
    "        \n",
    "        OUTPUTS: Returns a list of outcomes. Does not internally store this list.\n",
    "        '''\n",
    "        results = []\n",
    "        probabilities = [x / sum(self.weights) for x in self.weights]\n",
    "        \n",
    "        for i in range(rolls):\n",
    "            instance = self._opportunity_set.faces.sample(weights = probabilities).values[0]\n",
    "            results.append(instance)\n",
    "            \n",
    "        return results\n",
    "    \n",
    "    def get_die(self):\n",
    "        '''\n",
    "        PURPOSE: A method to show the user the die’s current set of faces and weights (since the latter can be changed).\n",
    "        \n",
    "        INPUTS: None\n",
    "        \n",
    "        OUTPUTS: Returns the dataframe created in the initializer.\n",
    "        '''\n",
    "        df = self._opportunity_set.copy()\n",
    "        return df\n",
    "    \n",
    "class Game:\n",
    "    '''\n",
    "    A Game object consists of rolling of one or more dice of the same kind one or more times. \n",
    "\n",
    "    Each game is initialized with one or more of similarly defined dice (Die objects).\n",
    "    \n",
    "    By “same kind” and “similarly defined” we mean that each die in a given game has the same number of sides and \n",
    "    associated faces, but each die object may have its own weights.\n",
    "    \n",
    "    The class has a behavior to play a game, i.e. to rolls all of the dice a given number of times.\n",
    "    \n",
    "    The class keeps the results of its most recent play. \n",
    "    '''\n",
    "    \n",
    "    def __init__(self, dice):\n",
    "        '''\n",
    "        PURPOSE: Initializes a Game object.\n",
    "        \n",
    "        INPUTS: Takes a single parameter, a list of already instantiated similar Die objects.\n",
    "        \n",
    "        OUTPUTS: None\n",
    "        '''\n",
    "        self.dice = dice\n",
    "        \n",
    "    def play(self, num_times):\n",
    "        '''\n",
    "        PURPOSE: Plays a game by simulating rolls of its dice a given number of times. Saves the result of the play to a \n",
    "        private dataframe of shape N rolls by M dice.\n",
    "        \n",
    "        INPUTS: Takes an int that specifies how many times the dice should be rolled.\n",
    "        \n",
    "        OUTPUTS: None\n",
    "        '''\n",
    "        self._result = pd.DataFrame()\n",
    "        self._result.index.name = 'roll'\n",
    "        self._result.columns.name = 'die'\n",
    "        for i in range(len(self.dice)):\n",
    "            self._result[i] = self.dice[i].die_roll(num_times)\n",
    "        \n",
    "    def show(self, stack = 'wide'):\n",
    "        '''\n",
    "        PURPOSE: A method to show the user the results of the most recent play. This method  passes the private dataframe created\n",
    "        in play() to the user.\n",
    "        \n",
    "        INPUTS: Takes a string parameter \"narrow\" or \"wide\" that determines the form that the dataframe is returned. An exception\n",
    "        will be thrown if a different parameter is passed. Defaults to \"wide\"\n",
    "        \n",
    "        OUTPUTS: Returns a dataframe of the results of play(). The narrow form of the dataframe will have a two-column index \n",
    "        with the roll number and the die number, and a column for the face rolled. The wide form of the dataframe will a \n",
    "        single column index with the roll number, and each die number as a column.\n",
    "        '''\n",
    "        assert (stack == 'wide' or stack == 'narrow'), \"Please enter narrow or wide\"\n",
    "        df = self._result.copy()\n",
    "        \n",
    "        if stack == 'wide':\n",
    "            return df\n",
    "        else:\n",
    "            df = df.stack().to_frame('faces rolled')\n",
    "            return df\n",
    "        \n",
    "class Analyzer:\n",
    "    '''\n",
    "    An Analyzer object takes the results of a single game and computes various descriptive statistical properties about it. \n",
    "    These properties results are available as attributes of an Analyzer object. Attributes (and associated methods) include:\n",
    "\n",
    "    A face counts per roll, i.e. the number of times a given face appeared in each roll. For example, if a roll of five dice \n",
    "    has all sixes, then the counts for this roll would be 6 for the face value '6' and 0 for the other faces.\n",
    "    \n",
    "    A jackpot count, i.e. how many times a roll resulted in all faces being the same, e.g. all one for a six-sided die.\n",
    "    \n",
    "    A combo count, i.e. how many combination types of faces were rolled and their counts.\n",
    "    '''\n",
    "    \n",
    "    def __init__(self, game):\n",
    "        '''\n",
    "        PURPOSE: Initializes an instance of an Analyzer object. At initialization time, it also infers the data type of the \n",
    "        die faces used.\n",
    "        \n",
    "        INPUTS: Takes a game object as its input parameter.\n",
    "        \n",
    "        OUTPUTS: None\n",
    "        '''\n",
    "        self.game = game\n",
    "        self.face_type = game.dice[0].faces[0].dtype\n",
    "        \n",
    "    def jackpot(self):\n",
    "        '''\n",
    "        PURPOSE: A method to compute how many times the game resulted in all faces being identical. Stores the results as a \n",
    "        dataframe of jackpot results in a public attribute, jackpots. The dataframe has the roll number as a named index.\n",
    "        \n",
    "        INPUTS: None\n",
    "        \n",
    "        OUTPUTS: Returns an integer for the number times to the user.\n",
    "        '''\n",
    "        result = self.game.show('wide')\n",
    "        jackpot_test = result.eq(result.iloc[:, 0], axis=0).all(1)\n",
    "        \n",
    "        jackpot_counter = 0\n",
    "        jackpot_rolls = []\n",
    "        self.jackpots = pd.DataFrame(columns = result.columns)\n",
    "        self.jackpots.index.name = 'roll'\n",
    "        \n",
    "        for i in range(len(jackpot_test)):\n",
    "            if jackpot_test.loc[i]:\n",
    "                jackpot_counter += 1\n",
    "                jackpot_rolls.append(i)\n",
    "                self.jackpots.loc[len(self.jackpots)-1] = result.loc[i]\n",
    "                \n",
    "        self.jackpots.index = jackpot_rolls\n",
    "        \n",
    "        return jackpot_counter\n",
    "            \n",
    "    def combo(self):\n",
    "        '''\n",
    "        PURPOSE: A method to compute the distinct combinations of faces rolled, along with their counts. \n",
    "        Combinations are sorted and saved as a multi-columned index. Stores the results as a dataframe in a \n",
    "        public attribute, combinations.\n",
    "        \n",
    "        INPUTS: None\n",
    "        \n",
    "        OUTPUTS: None\n",
    "        '''\n",
    "        self.combinations = self.game.show('wide')\n",
    "        self.combinations = self.combinations.apply(lambda x: pd.Series(sorted(x)), 1).value_counts().to_frame('n')\n",
    "        return\n",
    "    \n",
    "    def face_counts_per_roll(self):\n",
    "        '''\n",
    "        PURPOSE: A method to compute how many times a given face is rolled in each event. Stores the results as a \n",
    "        dataframe in a publicattribute. The dataframe has an index of the roll number and face values as columns (i.e. \n",
    "        it is in wide format).\n",
    "        \n",
    "        INPUTS: None\n",
    "        \n",
    "        OUTPUTS: None\n",
    "        '''\n",
    "        self.face_counts = self.game.show('wide').apply(pd.Series.value_counts, axis=1).fillna(0).astype(int)\n"
   ]
  },
  {
   "cell_type": "markdown",
   "id": "4c81c4f0-b6ff-46ab-ba2c-9de7f0179715",
   "metadata": {},
   "source": [
    "# Test Module"
   ]
  },
  {
   "cell_type": "code",
   "execution_count": null,
   "id": "14b878d8-258b-4cf2-ad88-b8ee90d43977",
   "metadata": {},
   "outputs": [],
   "source": [
    "import unittest\n",
    "import pandas as pd\n",
    "import numpy as np\n",
    "from montecarlo import Die, Game, Analyzer\n",
    "\n",
    "class MontecarloTestSuite(unittest.TestCase):\n",
    "    '''\n",
    "    This is a suite of tests intended to ensure the functionality of the montecarlo module. Methods (tests) include:\n",
    "        test_01_change_weight()\n",
    "        test_02_die_roll()\n",
    "        test_03_get_die()\n",
    "        test_04_play()\n",
    "        test_05_show()\n",
    "        test_06_jackpot()\n",
    "        test_07_combos()\n",
    "        test_08_face_counts_per_roll()\n",
    "    '''\n",
    "    \n",
    "    def test_01_change_weight(self):\n",
    "        '''\n",
    "        PURPOSE: This function tests the change_weight() function of the montecarlo.Die class by testing that both the\n",
    "        weights and private opportunity set attributes are correctly changed by the function\n",
    "        '''\n",
    "        test_die = Die(np.array([1,2,3,4,5,6]))\n",
    "        test_die.change_weight(2, 5.0)\n",
    "        \n",
    "        self.assertTrue(test_die.weights[1] == 5.0 and test_die._opportunity_set.loc[1][1] == 5.0)\n",
    "    \n",
    "    def test_02_die_roll(self):\n",
    "        '''\n",
    "        PURPOSE: This function tests the die_roll() function of the montecarlo.Die class by testing that the length of the list\n",
    "        returned by the function is the same length as the number of rolls instructed\n",
    "        '''\n",
    "        test_die = Die(np.array([1,2,3,4,5,6]))\n",
    "        test_result = test_die.die_roll(15)\n",
    "        \n",
    "        self.assertTrue(len(test_result) == 15)\n",
    "        \n",
    "    def test_03_get_die(self):\n",
    "        '''\n",
    "        PURPOSE: This function tests the get_die() function of the montecarlo.Die class by testing that select observations in\n",
    "        the dataframe returned by the function are as expected\n",
    "        '''        \n",
    "        test_die = Die(np.array([1,2,3,4,5,6]))\n",
    "        test_result = test_die.get_die()\n",
    "        \n",
    "        self.assertTrue(test_result.loc[3][0] == 4 and test_result.loc[3][1] == 1)\n",
    "        \n",
    "    def test_04_play(self):\n",
    "        '''\n",
    "        PURPOSE: This function tests the play() function of the montecarlo.Game class by testing that the size of the\n",
    "        private dataframe is as expected given the number of die (3) and the number of rolls (20)\n",
    "        '''\n",
    "        die1 = Die(np.array([1,2,3,4,5]))\n",
    "        die2 = Die(np.array([1,2,3,4,5]))\n",
    "        die3 = Die(np.array([1,2,3,4,5]))\n",
    "        dielist = [die1, die2, die3]\n",
    "        \n",
    "        test_game = Game(dielist)\n",
    "        \n",
    "        test_game.play(20)\n",
    "        \n",
    "        self.assertTrue(len(test_game._result) == 20 and len(test_game._result.columns) == 3)\n",
    "        \n",
    "    def test_05_show(self):\n",
    "        '''\n",
    "        PURPOSE: This function tests the show() function of the montecarlo.Game class by testing that the size of the dataframe\n",
    "        returned with the narrow input parameter is stacked as expected\n",
    "        '''\n",
    "        die1 = Die(np.array([1,2,3,4,5]))\n",
    "        die2 = Die(np.array([1,2,3,4,5]))\n",
    "        die3 = Die(np.array([1,2,3,4,5]))\n",
    "        dielist = [die1, die2, die3]\n",
    "        \n",
    "        test_game = Game(dielist)\n",
    "        test_game.play(20)\n",
    "        test_result = test_game.show('narrow')\n",
    "        \n",
    "        self.assertTrue(len(test_result) == (3*20) and len(test_result.columns) == 1)\n",
    "        \n",
    "    def test_06_jackpot(self):\n",
    "        '''\n",
    "        PURPOSE: This function tests the jackpot() function of the montecarlo.Analyzer class by testing that the integer returned\n",
    "        is equal to the number of jackpots in a game\n",
    "        '''\n",
    "        die1 = Die(np.array([1,2,3,4,5]))\n",
    "        die2 = Die(np.array([1,2,3,4,5]))\n",
    "        die3 = Die(np.array([1,2,3,4,5]))\n",
    "        dielist = [die1, die2, die3]\n",
    "        \n",
    "        test_game = Game(dielist)\n",
    "        test_game.play(5)\n",
    "        test_game._result.loc[0] = [5,5,5]\n",
    "        test_game._result.loc[1] = [5,5,5]\n",
    "        test_game._result.loc[2] = [1,5,5]\n",
    "        test_game._result.loc[3] = [1,2,5]\n",
    "        test_game._result.loc[4] = [4,3,5]\n",
    "        \n",
    "        test_analyzer = Analyzer(test_game)\n",
    "        test_jackpots = test_analyzer.jackpot()\n",
    "        \n",
    "        self.assertTrue(test_jackpots == 2)\n",
    "        \n",
    "    def test_07_combos(self):\n",
    "        '''\n",
    "        PURPOSE: This function tests the combos() function of the montecarlo.Analyzer class by testing that the \n",
    "        number of combinations found is equal to the true number of combinations in a game\n",
    "        '''\n",
    "        die1 = Die(np.array([1,2,3,4,5]))\n",
    "        die2 = Die(np.array([1,2,3,4,5]))\n",
    "        die3 = Die(np.array([1,2,3,4,5]))\n",
    "        dielist = [die1, die2, die3]\n",
    "        \n",
    "        test_game = Game(dielist)\n",
    "        test_game.play(5)\n",
    "        test_game._result.loc[0] = [5,5,5]\n",
    "        test_game._result.loc[1] = [5,5,5]\n",
    "        test_game._result.loc[2] = [1,5,5]\n",
    "        test_game._result.loc[3] = [1,2,5]\n",
    "        test_game._result.loc[4] = [4,3,5]\n",
    "        \n",
    "        test_analyzer = Analyzer(test_game)\n",
    "        test_combos = test_analyzer.combo()\n",
    "        \n",
    "        self.assertTrue(len(test_analyzer.combinations) == 4)\n",
    "        \n",
    "    def test_08_face_counts_per_roll(self):\n",
    "        '''\n",
    "        PURPOSE: This function tests the face_counts_per_roll() function of the montecarlo.Analyzer class by testing that select\n",
    "        observations of the returned data frame are equal to the expected face count tallies\n",
    "        '''\n",
    "        die1 = Die(np.array([1,2,3,4,5]))\n",
    "        die2 = Die(np.array([1,2,3,4,5]))\n",
    "        die3 = Die(np.array([1,2,3,4,5]))\n",
    "        dielist = [die1, die2, die3]\n",
    "        \n",
    "        test_game = Game(dielist)\n",
    "        test_game.play(5)\n",
    "        test_game._result.loc[0] = [5,5,5]\n",
    "        test_game._result.loc[1] = [5,5,5]\n",
    "        test_game._result.loc[2] = [1,5,5]\n",
    "        test_game._result.loc[3] = [1,2,5]\n",
    "        test_game._result.loc[4] = [4,3,5]\n",
    "        \n",
    "        test_analyzer = Analyzer(test_game)\n",
    "        test_analyzer.face_counts_per_roll()\n",
    "        test_fc = test_analyzer.face_counts\n",
    "        \n",
    "        self.assertTrue(test_fc.loc[0][5] == 3 and test_fc.loc[4][1] == 0)\n",
    "        \n",
    "if __name__ == '__main__':\n",
    "    \n",
    "    unittest.main(verbosity=3)"
   ]
  },
  {
   "cell_type": "markdown",
   "id": "3c2b90b6-ac8b-43fa-a069-cb5b0b22aee0",
   "metadata": {},
   "source": [
    "# Test Results"
   ]
  },
  {
   "cell_type": "raw",
   "id": "63e54ad6-f809-4b15-85c8-93986287a64c",
   "metadata": {},
   "source": [
    "test_01_change_weight (__main__.MontecarloTestSuite)\n",
    "PURPOSE: This function tests the change_weight() function of the montecarlo.Die class by testing that both the ... ok\n",
    "test_02_die_roll (__main__.MontecarloTestSuite)\n",
    "PURPOSE: This function tests the die_roll() function of the montecarlo.Die class by testing that the length of the list ... ok\n",
    "test_03_get_die (__main__.MontecarloTestSuite)\n",
    "PURPOSE: This function tests the get_die() function of the montecarlo.Die class by testing that select observations in ... ok\n",
    "test_04_play (__main__.MontecarloTestSuite)\n",
    "PURPOSE: This function tests the play() function of the montecarlo.Game class by testing that the size of the ... ok\n",
    "test_05_show (__main__.MontecarloTestSuite)\n",
    "PURPOSE: This function tests the show() function of the montecarlo.Game class by testing that the size of the dataframe ... ok\n",
    "test_06_jackpot (__main__.MontecarloTestSuite)\n",
    "PURPOSE: This function tests the jackpot() function of the montecarlo.Analyzer class by testing that the integer returned ... ok\n",
    "test_07_combos (__main__.MontecarloTestSuite)\n",
    "PURPOSE: This function tests the combos() function of the montecarlo.Analyzer class by testing that the number of combinations ... ok\n",
    "test_08_face_counts_per_roll (__main__.MontecarloTestSuite)\n",
    "PURPOSE: This function tests the face_counts_per_roll() function of the montecarlo.Analyzer class by testing that select ... ok\n",
    "\n",
    "----------------------------------------------------------------------\n",
    "Ran 8 tests in 0.251s\n",
    "\n",
    "OK"
   ]
  },
  {
   "cell_type": "markdown",
   "id": "7c44695d-d1b3-4edf-9f94-e64d7446f199",
   "metadata": {},
   "source": [
    "# Scenarios\n",
    "\n",
    "Code blocks with your scenarios and their outputs. \n",
    "\n",
    "These should have appropriate import statements even though the code is now in the same notebook as the classes it calls. "
   ]
  },
  {
   "cell_type": "markdown",
   "id": "90b7abd8-f4a7-4d71-bc9a-746640516b98",
   "metadata": {},
   "source": [
    "## Scenario 1"
   ]
  },
  {
   "cell_type": "code",
   "execution_count": 2,
   "id": "815eae36-4357-442a-894e-d056ebb8f998",
   "metadata": {},
   "outputs": [
    {
     "name": "stdout",
     "output_type": "stream",
     "text": [
      "You have loaded the montecarlo module\n"
     ]
    }
   ],
   "source": [
    "import numpy as np\n",
    "import pandas as pd\n",
    "import matplotlib.pyplot as plt\n",
    "import montecarlo.montecarlo as mc"
   ]
  },
  {
   "cell_type": "code",
   "execution_count": 3,
   "id": "4d65db7a-76e2-4585-b44c-2e479ec7531b",
   "metadata": {},
   "outputs": [],
   "source": [
    "#1\n",
    "fair_coin = mc.Die(np.array(['H', 'T']))\n",
    "\n",
    "unfair_coin = mc.Die(np.array(['H', 'T']))\n",
    "unfair_coin.change_weight('T', 5.0)"
   ]
  },
  {
   "cell_type": "code",
   "execution_count": 4,
   "id": "d23c7540-6839-4ed9-a35c-aa59f24b4e87",
   "metadata": {},
   "outputs": [],
   "source": [
    "#2\n",
    "game1 = mc.Game([fair_coin, fair_coin, fair_coin])\n",
    "game1.play(1000)"
   ]
  },
  {
   "cell_type": "code",
   "execution_count": 5,
   "id": "df1bc9f0-0ae5-4221-8a29-417480eb5f7a",
   "metadata": {},
   "outputs": [],
   "source": [
    "#3\n",
    "game2 = mc.Game([unfair_coin, unfair_coin, fair_coin])\n",
    "game2.play(1000)"
   ]
  },
  {
   "cell_type": "code",
   "execution_count": 6,
   "id": "8c1f0f9e-b8d2-4be0-a76f-d816c5613210",
   "metadata": {},
   "outputs": [
    {
     "name": "stdout",
     "output_type": "stream",
     "text": [
      "Game 1 jackpots: 266\n",
      "Game 2 jackpots: 341\n",
      "Game 2 came up with jackpots 1.28x more frequently than Game 1\n"
     ]
    }
   ],
   "source": [
    "#4\n",
    "game1_analyzed = mc.Analyzer(game1)\n",
    "game2_analyzed = mc.Analyzer(game2)\n",
    "\n",
    "game1_jackpots = game1_analyzed.jackpot()\n",
    "game2_jackpots = game2_analyzed.jackpot()\n",
    "\n",
    "print('Game 1 jackpots: ' + str(game1_jackpots))\n",
    "print('Game 2 jackpots: ' + str(game2_jackpots))\n",
    "print('Game 2 came up with jackpots ' + str(round(game2_jackpots/game1_jackpots, 2)) + 'x more frequently than Game 1')"
   ]
  },
  {
   "cell_type": "code",
   "execution_count": 7,
   "id": "00dc0ec9-b2bf-4cee-a560-083c9585d444",
   "metadata": {},
   "outputs": [
    {
     "name": "stdout",
     "output_type": "stream",
     "text": [
      "Game 1 relative frequency: 0.266\n",
      "Game 2 relative frequency: 0.341\n"
     ]
    }
   ],
   "source": [
    "#5\n",
    "rel_freq_1 = game1_jackpots / 1000\n",
    "rel_freq_2 = game2_jackpots / 1000\n",
    "\n",
    "print('Game 1 relative frequency: ' + str(rel_freq_1))\n",
    "print('Game 2 relative frequency: ' + str(rel_freq_2))"
   ]
  },
  {
   "cell_type": "code",
   "execution_count": 8,
   "id": "94880287-f270-48f4-81d5-d2a3cad2885c",
   "metadata": {},
   "outputs": [
    {
     "data": {
      "image/png": "[encoded data removed]",
      "text/plain": [
       "<Figure size 432x288 with 1 Axes>"
      ]
     },
     "metadata": {
      "needs_background": "light"
     },
     "output_type": "display_data"
    }
   ],
   "source": [
    "#6\n",
    "plt.bar(['Game 1 RF', 'Game 2 RF'],[rel_freq_1, rel_freq_2]);"
   ]
  },
  {
   "cell_type": "markdown",
   "id": "92793a09-0024-465d-b272-2ef8b9a6c21c",
   "metadata": {},
   "source": [
    "## Scenario 2"
   ]
  },
  {
   "cell_type": "code",
   "execution_count": 9,
   "id": "7218e98e-6ec0-4766-8793-5b386ce6ee24",
   "metadata": {},
   "outputs": [],
   "source": [
    "#1\n",
    "fair_die = mc.Die(np.array([1,2,3,4,5,6]))\n",
    "\n",
    "unfair_type1 = mc.Die(np.array([1,2,3,4,5,6]))\n",
    "unfair_type1.change_weight(6, 5.0)\n",
    "\n",
    "unfair_type2 = mc.Die(np.array([1,2,3,4,5,6]))\n",
    "unfair_type2.change_weight(1, 5.0)"
   ]
  },
  {
   "cell_type": "code",
   "execution_count": 10,
   "id": "345935c3-b28e-4c7e-9428-e43a09fdd12b",
   "metadata": {},
   "outputs": [],
   "source": [
    "#2\n",
    "game3 = mc.Game([fair_die, fair_die, fair_die, fair_die, fair_die])\n",
    "game3.play(10000)"
   ]
  },
  {
   "cell_type": "code",
   "execution_count": 11,
   "id": "751ff278-0795-480e-90f1-631089354bfc",
   "metadata": {},
   "outputs": [],
   "source": [
    "#3\n",
    "game4 = mc.Game([unfair_type1, unfair_type1, unfair_type2, fair_die, fair_die])\n",
    "game4.play(10000)"
   ]
  },
  {
   "cell_type": "code",
   "execution_count": 12,
   "id": "0839c899-c1df-404a-b78a-1ea5a4d2951a",
   "metadata": {},
   "outputs": [
    {
     "data": {
      "image/png": "[encoded data removed]",
      "text/plain": [
       "<Figure size 432x288 with 1 Axes>"
      ]
     },
     "metadata": {
      "needs_background": "light"
     },
     "output_type": "display_data"
    }
   ],
   "source": [
    "#4\n",
    "game3_analyzed = mc.Analyzer(game3)\n",
    "game4_analyzed = mc.Analyzer(game4)\n",
    "\n",
    "game3_jackpots = game3_analyzed.jackpot()\n",
    "game4_jackpots = game4_analyzed.jackpot()\n",
    "\n",
    "rel_freq_3 = game3_jackpots / 1000\n",
    "rel_freq_4 = game4_jackpots / 1000\n",
    "\n",
    "plt.bar(['Game 3 RF', 'Game 4 RF'],[rel_freq_3, rel_freq_4]);"
   ]
  },
  {
   "cell_type": "code",
   "execution_count": 13,
   "id": "671304b3-805e-4684-bdbf-898035d4d2b9",
   "metadata": {},
   "outputs": [
    {
     "data": {
      "image/png": "[encoded data removed]",
      "text/plain": [
       "<Figure size 432x288 with 1 Axes>"
      ]
     },
     "metadata": {
      "needs_background": "light"
     },
     "output_type": "display_data"
    }
   ],
   "source": [
    "#5\n",
    "game3_analyzed.combo()\n",
    "game4_analyzed.combo()\n",
    "\n",
    "top_combos_game3 = game3_analyzed.combinations.head(10)\n",
    "top_combos_game4 = game4_analyzed.combinations.head(10)\n",
    "\n",
    "labels3 = [str(x) for x in top_combos_game3.index]\n",
    "plt.bar(labels3, top_combos_game3['n']);\n",
    "plt.xticks(rotation = 'vertical');"
   ]
  },
  {
   "cell_type": "code",
   "execution_count": 14,
   "id": "7d7f4a51-677b-488d-a835-9a0b6e729b2d",
   "metadata": {},
   "outputs": [
    {
     "data": {
      "image/png": "[encoded data removed]",
      "text/plain": [
       "<Figure size 432x288 with 1 Axes>"
      ]
     },
     "metadata": {
      "needs_background": "light"
     },
     "output_type": "display_data"
    }
   ],
   "source": [
    "labels4 = [str(x) for x in top_combos_game4.index]\n",
    "plt.bar(labels4, top_combos_game4['n']);\n",
    "plt.xticks(rotation = 'vertical');"
   ]
  },
  {
   "cell_type": "markdown",
   "id": "1b47f5b6-188d-4d24-9c2f-687b430e6624",
   "metadata": {},
   "source": [
    "## Scenario 3"
   ]
  },
  {
   "cell_type": "code",
   "execution_count": 15,
   "id": "ad6d2878-f832-4065-98a3-1ea78ff0a6d3",
   "metadata": {},
   "outputs": [],
   "source": [
    "#1\n",
    "letters = {'A': 8.4966, 'B': 2.0720, 'C': 4.5388, 'D': 3.3844, 'E': 11.1607, 'F': 1.8121, 'G': 2.4705, 'H': 3.0034,\n",
    "    'I': 7.5448, 'J': 0.1965, 'K': 1.1016, 'L': 5.4893, 'M': 3.0129, 'N': 6.6544, 'O': 7.1635, 'P': 3.1671, 'Q': 0.1962,\n",
    "    'R': 7.5809, 'S': 5.7351, 'T': 6.9509, 'U': 3.6308, 'V': 1.0074, 'W': 1.2899, 'X': 0.2902, 'Y': 1.7779, 'Z': 0.2722 }\n",
    "\n",
    "letter_die = mc.Die(np.array(list(letters.keys())))\n",
    "for i in range(len(letter_die.faces)):\n",
    "    letter_die.change_weight(list(letters.keys())[i], list(letters.values())[i])"
   ]
  },
  {
   "cell_type": "code",
   "execution_count": 16,
   "id": "0856a211-2a37-4a3f-9634-3a0805f0ce84",
   "metadata": {},
   "outputs": [],
   "source": [
    "#2\n",
    "game5 = mc.Game([letter_die, letter_die, letter_die, letter_die, letter_die])\n",
    "game5.play(1000)"
   ]
  },
  {
   "cell_type": "code",
   "execution_count": 17,
   "id": "2896c0aa-c38f-488d-98be-8b8dca660f6a",
   "metadata": {},
   "outputs": [
    {
     "data": {
      "text/html": [
       "<div>\n",
       "<style scoped>\n",
       "    .dataframe tbody tr th:only-of-type {\n",
       "        vertical-align: middle;\n",
       "    }\n",
       "\n",
       "    .dataframe tbody tr th {\n",
       "        vertical-align: top;\n",
       "    }\n",
       "\n",
       "    .dataframe thead th {\n",
       "        text-align: right;\n",
       "    }\n",
       "</style>\n",
       "<table border=\"1\" class=\"dataframe\">\n",
       "  <thead>\n",
       "    <tr style=\"text-align: right;\">\n",
       "      <th>die</th>\n",
       "      <th>0</th>\n",
       "      <th>1</th>\n",
       "      <th>2</th>\n",
       "      <th>3</th>\n",
       "      <th>4</th>\n",
       "    </tr>\n",
       "    <tr>\n",
       "      <th>roll</th>\n",
       "      <th></th>\n",
       "      <th></th>\n",
       "      <th></th>\n",
       "      <th></th>\n",
       "      <th></th>\n",
       "    </tr>\n",
       "  </thead>\n",
       "  <tbody>\n",
       "    <tr>\n",
       "      <th>0</th>\n",
       "      <td>A</td>\n",
       "      <td>E</td>\n",
       "      <td>T</td>\n",
       "      <td>T</td>\n",
       "      <td>R</td>\n",
       "    </tr>\n",
       "    <tr>\n",
       "      <th>1</th>\n",
       "      <td>E</td>\n",
       "      <td>P</td>\n",
       "      <td>A</td>\n",
       "      <td>T</td>\n",
       "      <td>C</td>\n",
       "    </tr>\n",
       "    <tr>\n",
       "      <th>2</th>\n",
       "      <td>R</td>\n",
       "      <td>G</td>\n",
       "      <td>P</td>\n",
       "      <td>V</td>\n",
       "      <td>L</td>\n",
       "    </tr>\n",
       "    <tr>\n",
       "      <th>3</th>\n",
       "      <td>I</td>\n",
       "      <td>C</td>\n",
       "      <td>I</td>\n",
       "      <td>R</td>\n",
       "      <td>R</td>\n",
       "    </tr>\n",
       "    <tr>\n",
       "      <th>4</th>\n",
       "      <td>S</td>\n",
       "      <td>T</td>\n",
       "      <td>B</td>\n",
       "      <td>E</td>\n",
       "      <td>T</td>\n",
       "    </tr>\n",
       "    <tr>\n",
       "      <th>5</th>\n",
       "      <td>R</td>\n",
       "      <td>M</td>\n",
       "      <td>Y</td>\n",
       "      <td>I</td>\n",
       "      <td>A</td>\n",
       "    </tr>\n",
       "    <tr>\n",
       "      <th>6</th>\n",
       "      <td>H</td>\n",
       "      <td>I</td>\n",
       "      <td>U</td>\n",
       "      <td>N</td>\n",
       "      <td>O</td>\n",
       "    </tr>\n",
       "    <tr>\n",
       "      <th>7</th>\n",
       "      <td>S</td>\n",
       "      <td>T</td>\n",
       "      <td>S</td>\n",
       "      <td>R</td>\n",
       "      <td>I</td>\n",
       "    </tr>\n",
       "    <tr>\n",
       "      <th>8</th>\n",
       "      <td>A</td>\n",
       "      <td>R</td>\n",
       "      <td>Q</td>\n",
       "      <td>B</td>\n",
       "      <td>F</td>\n",
       "    </tr>\n",
       "    <tr>\n",
       "      <th>9</th>\n",
       "      <td>R</td>\n",
       "      <td>V</td>\n",
       "      <td>R</td>\n",
       "      <td>I</td>\n",
       "      <td>L</td>\n",
       "    </tr>\n",
       "  </tbody>\n",
       "</table>\n",
       "</div>"
      ],
      "text/plain": [
       "die   0  1  2  3  4\n",
       "roll               \n",
       "0     A  E  T  T  R\n",
       "1     E  P  A  T  C\n",
       "2     R  G  P  V  L\n",
       "3     I  C  I  R  R\n",
       "4     S  T  B  E  T\n",
       "5     R  M  Y  I  A\n",
       "6     H  I  U  N  O\n",
       "7     S  T  S  R  I\n",
       "8     A  R  Q  B  F\n",
       "9     R  V  R  I  L"
      ]
     },
     "execution_count": 17,
     "metadata": {},
     "output_type": "execute_result"
    }
   ],
   "source": [
    "#game5.show()\n",
    "game5.show().head(10)"
   ]
  },
  {
   "cell_type": "markdown",
   "id": "385988db-f266-4f32-be41-7967aa92ae9f",
   "metadata": {},
   "source": [
    "##### #3\n",
    "When looking through the combinations of the full table, I only found two rows that resembled English words. One was 'plots' and one was 'taste'"
   ]
  },
  {
   "cell_type": "code",
   "execution_count": 18,
   "id": "9d160923-58a1-4ba7-8dda-508faed0ed26",
   "metadata": {},
   "outputs": [
    {
     "data": {
      "text/plain": [
       "0.002"
      ]
     },
     "execution_count": 18,
     "metadata": {},
     "output_type": "execute_result"
    }
   ],
   "source": [
    "#4\n",
    "\n",
    "rel_freq_5 = 2/1000\n",
    "rel_freq_5"
   ]
  },
  {
   "cell_type": "markdown",
   "id": "6ced706c-19e7-4e79-b171-bfb076f822b4",
   "metadata": {},
   "source": [
    "# Directory Listing\n",
    "\n",
    "A code block that executes the following bash command: \n",
    "\n",
    "```bash\n",
    "!ls -lRF -o\n",
    "```"
   ]
  },
  {
   "cell_type": "code",
   "execution_count": null,
   "id": "5dbd35c2-e479-4179-b792-997d4293ba96",
   "metadata": {},
   "outputs": [],
   "source": [
    "!ls -lRF -o"
   ]
  },
  {
   "cell_type": "markdown",
   "id": "c4df835c-3cd7-4c74-a4de-51638607680b",
   "metadata": {
    "tags": []
   },
   "source": [
    "# Installation Output Listing\n",
    "    \n",
    "A code block that executes the code to install your your package and outputs a successful installation."
   ]
  },
  {
   "cell_type": "code",
   "execution_count": null,
   "id": "3609769a-c338-4746-8607-d124caf76ed8",
   "metadata": {},
   "outputs": [],
   "source": [
    "# Installation commands"
   ]
  },
  {
   "cell_type": "code",
   "execution_count": null,
   "id": "3f8d0ced-8841-4357-bda1-151880cf91a0",
   "metadata": {},
   "outputs": [],
   "source": []
  }
 ],
 "metadata": {
  "kernelspec": {
   "display_name": "Python 3 (ipykernel)",
   "language": "python",
   "name": "python3"
  },
  "language_info": {
   "codemirror_mode": {
    "name": "ipython",
    "version": 3
   },
   "file_extension": ".py",
   "mimetype": "text/x-python",
   "name": "python",
   "nbconvert_exporter": "python",
   "pygments_lexer": "ipython3",
   "version": "3.9.12"
  },
  "widgets": {
   "application/vnd.jupyter.widget-state+json": {
    "state": {},
    "version_major": 2,
    "version_minor": 0
   }
  }
 },
 "nbformat": 4,
 "nbformat_minor": 5
}
